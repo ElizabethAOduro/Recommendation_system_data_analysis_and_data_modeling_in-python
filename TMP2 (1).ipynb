{
 "cells": [
  {
   "cell_type": "markdown",
   "id": "64be2904-69a2-4f42-a7f8-549be4fdefb3",
   "metadata": {},
   "source": [
    "# Import and run packages"
   ]
  },
  {
   "cell_type": "code",
   "execution_count": 1,
   "id": "133fed65-d5cb-425c-9697-424f5ddebda7",
   "metadata": {},
   "outputs": [
    {
     "name": "stdout",
     "output_type": "stream",
     "text": [
      "Requirement already satisfied: pandas in c:\\users\\hp\\appdata\\local\\programs\\python\\python313\\lib\\site-packages (2.2.3)\n",
      "Requirement already satisfied: numpy>=1.26.0 in c:\\users\\hp\\appdata\\local\\programs\\python\\python313\\lib\\site-packages (from pandas) (2.2.3)\n",
      "Requirement already satisfied: python-dateutil>=2.8.2 in c:\\users\\hp\\appdata\\local\\programs\\python\\python313\\lib\\site-packages (from pandas) (2.9.0.post0)\n",
      "Requirement already satisfied: pytz>=2020.1 in c:\\users\\hp\\appdata\\local\\programs\\python\\python313\\lib\\site-packages (from pandas) (2025.1)\n",
      "Requirement already satisfied: tzdata>=2022.7 in c:\\users\\hp\\appdata\\local\\programs\\python\\python313\\lib\\site-packages (from pandas) (2025.1)\n",
      "Requirement already satisfied: six>=1.5 in c:\\users\\hp\\appdata\\local\\programs\\python\\python313\\lib\\site-packages (from python-dateutil>=2.8.2->pandas) (1.17.0)\n"
     ]
    },
    {
     "name": "stderr",
     "output_type": "stream",
     "text": [
      "\n",
      "[notice] A new release of pip is available: 24.3.1 -> 25.0.1\n",
      "[notice] To update, run: python.exe -m pip install --upgrade pip\n"
     ]
    }
   ],
   "source": [
    "!pip install pandas"
   ]
  },
  {
   "cell_type": "code",
   "execution_count": 2,
   "id": "5cd1e16a-24fd-4162-ba19-0b916b15c7bf",
   "metadata": {},
   "outputs": [
    {
     "name": "stdout",
     "output_type": "stream",
     "text": [
      "Requirement already satisfied: numpy in c:\\users\\hp\\appdata\\local\\programs\\python\\python313\\lib\\site-packages (2.2.3)\n"
     ]
    },
    {
     "name": "stderr",
     "output_type": "stream",
     "text": [
      "\n",
      "[notice] A new release of pip is available: 24.3.1 -> 25.0.1\n",
      "[notice] To update, run: python.exe -m pip install --upgrade pip\n"
     ]
    }
   ],
   "source": [
    "!pip install numpy"
   ]
  },
  {
   "cell_type": "code",
   "execution_count": 3,
   "id": "1a8470f8-51ff-4677-a94a-2c6cc531b70e",
   "metadata": {},
   "outputs": [
    {
     "name": "stdout",
     "output_type": "stream",
     "text": [
      "Requirement already satisfied: matplotlib in c:\\users\\hp\\appdata\\local\\programs\\python\\python313\\lib\\site-packages (3.10.1)\n",
      "Requirement already satisfied: contourpy>=1.0.1 in c:\\users\\hp\\appdata\\local\\programs\\python\\python313\\lib\\site-packages (from matplotlib) (1.3.1)\n",
      "Requirement already satisfied: cycler>=0.10 in c:\\users\\hp\\appdata\\local\\programs\\python\\python313\\lib\\site-packages (from matplotlib) (0.12.1)\n",
      "Requirement already satisfied: fonttools>=4.22.0 in c:\\users\\hp\\appdata\\local\\programs\\python\\python313\\lib\\site-packages (from matplotlib) (4.56.0)\n",
      "Requirement already satisfied: kiwisolver>=1.3.1 in c:\\users\\hp\\appdata\\local\\programs\\python\\python313\\lib\\site-packages (from matplotlib) (1.4.8)\n",
      "Requirement already satisfied: numpy>=1.23 in c:\\users\\hp\\appdata\\local\\programs\\python\\python313\\lib\\site-packages (from matplotlib) (2.2.3)\n",
      "Requirement already satisfied: packaging>=20.0 in c:\\users\\hp\\appdata\\local\\programs\\python\\python313\\lib\\site-packages (from matplotlib) (24.2)\n",
      "Requirement already satisfied: pillow>=8 in c:\\users\\hp\\appdata\\local\\programs\\python\\python313\\lib\\site-packages (from matplotlib) (11.1.0)\n",
      "Requirement already satisfied: pyparsing>=2.3.1 in c:\\users\\hp\\appdata\\local\\programs\\python\\python313\\lib\\site-packages (from matplotlib) (3.2.1)\n",
      "Requirement already satisfied: python-dateutil>=2.7 in c:\\users\\hp\\appdata\\local\\programs\\python\\python313\\lib\\site-packages (from matplotlib) (2.9.0.post0)\n",
      "Requirement already satisfied: six>=1.5 in c:\\users\\hp\\appdata\\local\\programs\\python\\python313\\lib\\site-packages (from python-dateutil>=2.7->matplotlib) (1.17.0)\n"
     ]
    },
    {
     "name": "stderr",
     "output_type": "stream",
     "text": [
      "\n",
      "[notice] A new release of pip is available: 24.3.1 -> 25.0.1\n",
      "[notice] To update, run: python.exe -m pip install --upgrade pip\n"
     ]
    }
   ],
   "source": [
    "!pip install matplotlib \n"
   ]
  },
  {
   "cell_type": "code",
   "execution_count": 4,
   "id": "668cf629-e00e-419d-9733-b5e279052620",
   "metadata": {},
   "outputs": [
    {
     "name": "stdout",
     "output_type": "stream",
     "text": [
      "Requirement already satisfied: seaborn in c:\\users\\hp\\appdata\\local\\programs\\python\\python313\\lib\\site-packages (0.13.2)\n",
      "Requirement already satisfied: numpy!=1.24.0,>=1.20 in c:\\users\\hp\\appdata\\local\\programs\\python\\python313\\lib\\site-packages (from seaborn) (2.2.3)\n",
      "Requirement already satisfied: pandas>=1.2 in c:\\users\\hp\\appdata\\local\\programs\\python\\python313\\lib\\site-packages (from seaborn) (2.2.3)\n",
      "Requirement already satisfied: matplotlib!=3.6.1,>=3.4 in c:\\users\\hp\\appdata\\local\\programs\\python\\python313\\lib\\site-packages (from seaborn) (3.10.1)\n",
      "Requirement already satisfied: contourpy>=1.0.1 in c:\\users\\hp\\appdata\\local\\programs\\python\\python313\\lib\\site-packages (from matplotlib!=3.6.1,>=3.4->seaborn) (1.3.1)\n",
      "Requirement already satisfied: cycler>=0.10 in c:\\users\\hp\\appdata\\local\\programs\\python\\python313\\lib\\site-packages (from matplotlib!=3.6.1,>=3.4->seaborn) (0.12.1)\n",
      "Requirement already satisfied: fonttools>=4.22.0 in c:\\users\\hp\\appdata\\local\\programs\\python\\python313\\lib\\site-packages (from matplotlib!=3.6.1,>=3.4->seaborn) (4.56.0)\n",
      "Requirement already satisfied: kiwisolver>=1.3.1 in c:\\users\\hp\\appdata\\local\\programs\\python\\python313\\lib\\site-packages (from matplotlib!=3.6.1,>=3.4->seaborn) (1.4.8)\n",
      "Requirement already satisfied: packaging>=20.0 in c:\\users\\hp\\appdata\\local\\programs\\python\\python313\\lib\\site-packages (from matplotlib!=3.6.1,>=3.4->seaborn) (24.2)\n",
      "Requirement already satisfied: pillow>=8 in c:\\users\\hp\\appdata\\local\\programs\\python\\python313\\lib\\site-packages (from matplotlib!=3.6.1,>=3.4->seaborn) (11.1.0)\n",
      "Requirement already satisfied: pyparsing>=2.3.1 in c:\\users\\hp\\appdata\\local\\programs\\python\\python313\\lib\\site-packages (from matplotlib!=3.6.1,>=3.4->seaborn) (3.2.1)\n",
      "Requirement already satisfied: python-dateutil>=2.7 in c:\\users\\hp\\appdata\\local\\programs\\python\\python313\\lib\\site-packages (from matplotlib!=3.6.1,>=3.4->seaborn) (2.9.0.post0)\n",
      "Requirement already satisfied: pytz>=2020.1 in c:\\users\\hp\\appdata\\local\\programs\\python\\python313\\lib\\site-packages (from pandas>=1.2->seaborn) (2025.1)\n",
      "Requirement already satisfied: tzdata>=2022.7 in c:\\users\\hp\\appdata\\local\\programs\\python\\python313\\lib\\site-packages (from pandas>=1.2->seaborn) (2025.1)\n",
      "Requirement already satisfied: six>=1.5 in c:\\users\\hp\\appdata\\local\\programs\\python\\python313\\lib\\site-packages (from python-dateutil>=2.7->matplotlib!=3.6.1,>=3.4->seaborn) (1.17.0)\n"
     ]
    },
    {
     "name": "stderr",
     "output_type": "stream",
     "text": [
      "\n",
      "[notice] A new release of pip is available: 24.3.1 -> 25.0.1\n",
      "[notice] To update, run: python.exe -m pip install --upgrade pip\n"
     ]
    }
   ],
   "source": [
    "!pip install seaborn"
   ]
  },
  {
   "cell_type": "code",
   "execution_count": 5,
   "id": "b0eb8518-c701-4bde-99eb-cd321da73409",
   "metadata": {},
   "outputs": [
    {
     "name": "stdout",
     "output_type": "stream",
     "text": [
      "Requirement already satisfied: scikit-learn in c:\\users\\hp\\appdata\\local\\programs\\python\\python313\\lib\\site-packages (1.6.1)\n",
      "Requirement already satisfied: numpy>=1.19.5 in c:\\users\\hp\\appdata\\local\\programs\\python\\python313\\lib\\site-packages (from scikit-learn) (2.2.3)\n",
      "Requirement already satisfied: scipy>=1.6.0 in c:\\users\\hp\\appdata\\local\\programs\\python\\python313\\lib\\site-packages (from scikit-learn) (1.15.2)\n",
      "Requirement already satisfied: joblib>=1.2.0 in c:\\users\\hp\\appdata\\local\\programs\\python\\python313\\lib\\site-packages (from scikit-learn) (1.4.2)\n",
      "Requirement already satisfied: threadpoolctl>=3.1.0 in c:\\users\\hp\\appdata\\local\\programs\\python\\python313\\lib\\site-packages (from scikit-learn) (3.5.0)\n"
     ]
    },
    {
     "name": "stderr",
     "output_type": "stream",
     "text": [
      "\n",
      "[notice] A new release of pip is available: 24.3.1 -> 25.0.1\n",
      "[notice] To update, run: python.exe -m pip install --upgrade pip\n"
     ]
    }
   ],
   "source": [
    "!pip install scikit-learn"
   ]
  },
  {
   "cell_type": "code",
   "execution_count": 1,
   "id": "b9cc9fae-de16-48e1-a950-183e2672a029",
   "metadata": {},
   "outputs": [],
   "source": [
    "import os  \n",
    "import pandas as pd  \n",
    "import numpy as np  \n",
    "import matplotlib.pyplot as plt  \n",
    "import seaborn as sns  \n",
    "from sklearn.model_selection import train_test_split  \n",
    "from sklearn.preprocessing import StandardScaler  \n",
    "from sklearn.ensemble import RandomForestClassifier  \n",
    "from sklearn.metrics import accuracy_score, classification_report  \n"
   ]
  },
  {
   "cell_type": "markdown",
   "id": "f8a3bfcd-691a-43b7-919d-cfc3b939e48e",
   "metadata": {},
   "source": [
    "## Import and clean datasets"
   ]
  },
  {
   "cell_type": "markdown",
   "id": "ccf502c1-198e-4e28-a6ef-7cad5a8c0a38",
   "metadata": {},
   "source": [
    "# Import and clean events dataset"
   ]
  },
  {
   "cell_type": "code",
   "execution_count": 2,
   "id": "6cbdbca3-02d8-40d8-bc93-ba6e7affba51",
   "metadata": {},
   "outputs": [],
   "source": [
    "events = pd.read_csv(\"C:/Users/Hp/Downloads/OneDrive_2_2-18-2025/TMP2/events.csv\") # import events dataset"
   ]
  },
  {
   "cell_type": "code",
   "execution_count": 3,
   "id": "2932f83d-27c8-49e3-827d-7d0f8cd4ad4c",
   "metadata": {},
   "outputs": [
    {
     "data": {
      "text/html": [
       "<div>\n",
       "<style scoped>\n",
       "    .dataframe tbody tr th:only-of-type {\n",
       "        vertical-align: middle;\n",
       "    }\n",
       "\n",
       "    .dataframe tbody tr th {\n",
       "        vertical-align: top;\n",
       "    }\n",
       "\n",
       "    .dataframe thead th {\n",
       "        text-align: right;\n",
       "    }\n",
       "</style>\n",
       "<table border=\"1\" class=\"dataframe\">\n",
       "  <thead>\n",
       "    <tr style=\"text-align: right;\">\n",
       "      <th></th>\n",
       "      <th>timestamp</th>\n",
       "      <th>visitorid</th>\n",
       "      <th>event</th>\n",
       "      <th>itemid</th>\n",
       "      <th>transactionid</th>\n",
       "    </tr>\n",
       "  </thead>\n",
       "  <tbody>\n",
       "    <tr>\n",
       "      <th>0</th>\n",
       "      <td>1433221332117</td>\n",
       "      <td>257597</td>\n",
       "      <td>view</td>\n",
       "      <td>355908</td>\n",
       "      <td>NaN</td>\n",
       "    </tr>\n",
       "    <tr>\n",
       "      <th>1</th>\n",
       "      <td>1433224214164</td>\n",
       "      <td>992329</td>\n",
       "      <td>view</td>\n",
       "      <td>248676</td>\n",
       "      <td>NaN</td>\n",
       "    </tr>\n",
       "    <tr>\n",
       "      <th>2</th>\n",
       "      <td>1433221999827</td>\n",
       "      <td>111016</td>\n",
       "      <td>view</td>\n",
       "      <td>318965</td>\n",
       "      <td>NaN</td>\n",
       "    </tr>\n",
       "    <tr>\n",
       "      <th>3</th>\n",
       "      <td>1433221955914</td>\n",
       "      <td>483717</td>\n",
       "      <td>view</td>\n",
       "      <td>253185</td>\n",
       "      <td>NaN</td>\n",
       "    </tr>\n",
       "    <tr>\n",
       "      <th>4</th>\n",
       "      <td>1433221337106</td>\n",
       "      <td>951259</td>\n",
       "      <td>view</td>\n",
       "      <td>367447</td>\n",
       "      <td>NaN</td>\n",
       "    </tr>\n",
       "  </tbody>\n",
       "</table>\n",
       "</div>"
      ],
      "text/plain": [
       "       timestamp  visitorid event  itemid  transactionid\n",
       "0  1433221332117     257597  view  355908            NaN\n",
       "1  1433224214164     992329  view  248676            NaN\n",
       "2  1433221999827     111016  view  318965            NaN\n",
       "3  1433221955914     483717  view  253185            NaN\n",
       "4  1433221337106     951259  view  367447            NaN"
      ]
     },
     "execution_count": 3,
     "metadata": {},
     "output_type": "execute_result"
    }
   ],
   "source": [
    "events.head()  # Shows first 5 rows\n"
   ]
  },
  {
   "cell_type": "code",
   "execution_count": 4,
   "id": "c196edc0-c413-4978-bf5d-fc665e1de88c",
   "metadata": {},
   "outputs": [
    {
     "name": "stdout",
     "output_type": "stream",
     "text": [
      "<class 'pandas.core.frame.DataFrame'>\n",
      "RangeIndex: 2756101 entries, 0 to 2756100\n",
      "Data columns (total 5 columns):\n",
      " #   Column         Dtype  \n",
      "---  ------         -----  \n",
      " 0   timestamp      int64  \n",
      " 1   visitorid      int64  \n",
      " 2   event          object \n",
      " 3   itemid         int64  \n",
      " 4   transactionid  float64\n",
      "dtypes: float64(1), int64(3), object(1)\n",
      "memory usage: 105.1+ MB\n"
     ]
    }
   ],
   "source": [
    "events.info()  # Displays column data types and missing values"
   ]
  },
  {
   "cell_type": "code",
   "execution_count": 5,
   "id": "863332ee-8be6-4ee1-a797-2d65945c5ab0",
   "metadata": {},
   "outputs": [
    {
     "data": {
      "text/plain": [
       "timestamp              0\n",
       "visitorid              0\n",
       "event                  0\n",
       "itemid                 0\n",
       "transactionid    2733644\n",
       "dtype: int64"
      ]
     },
     "execution_count": 5,
     "metadata": {},
     "output_type": "execute_result"
    }
   ],
   "source": [
    "events.isnull().sum()  # Counts missing values per column"
   ]
  },
  {
   "cell_type": "code",
   "execution_count": 6,
   "id": "4d152085-094a-4a41-9f5d-df726cf8730e",
   "metadata": {},
   "outputs": [],
   "source": [
    "# Transactionid column contains 2,733,644 empty rows"
   ]
  },
  {
   "cell_type": "code",
   "execution_count": 7,
   "id": "37d0c9bb-4ff9-4d80-8d51-95f75e653c4f",
   "metadata": {},
   "outputs": [],
   "source": [
    "# fill empty rows in transactionid column with \"no transaction\" "
   ]
  },
  {
   "cell_type": "code",
   "execution_count": 8,
   "id": "a8f4b45c-9a0b-4634-9f33-0843d5c4f4bc",
   "metadata": {},
   "outputs": [
    {
     "name": "stdout",
     "output_type": "stream",
     "text": [
      "             timestamp  visitorid event  itemid   transactionid\n",
      "0        1433221332117     257597  view  355908  no transaction\n",
      "1        1433224214164     992329  view  248676  no transaction\n",
      "2        1433221999827     111016  view  318965  no transaction\n",
      "3        1433221955914     483717  view  253185  no transaction\n",
      "4        1433221337106     951259  view  367447  no transaction\n",
      "...                ...        ...   ...     ...             ...\n",
      "2756096  1438398785939     591435  view  261427  no transaction\n",
      "2756097  1438399813142     762376  view  115946  no transaction\n",
      "2756098  1438397820527    1251746  view   78144  no transaction\n",
      "2756099  1438398530703    1184451  view  283392  no transaction\n",
      "2756100  1438400163914     199536  view  152913  no transaction\n",
      "\n",
      "[2756101 rows x 5 columns]\n"
     ]
    }
   ],
   "source": [
    "events['transactionid'] = events['transactionid'].fillna(\"no transaction\")\n",
    "print(events)"
   ]
  },
  {
   "cell_type": "code",
   "execution_count": null,
   "id": "6ed333ee-bbd6-442a-a341-8e827fda89b6",
   "metadata": {},
   "outputs": [],
   "source": []
  },
  {
   "cell_type": "code",
   "execution_count": 9,
   "id": "b83b15e1-5677-4e94-ad9a-47795de624cd",
   "metadata": {},
   "outputs": [
    {
     "data": {
      "text/plain": [
       "np.int64(460)"
      ]
     },
     "execution_count": 9,
     "metadata": {},
     "output_type": "execute_result"
    }
   ],
   "source": [
    "events.duplicated().sum()  #find and remove duplicates"
   ]
  },
  {
   "cell_type": "code",
   "execution_count": 10,
   "id": "b3355404-fc29-47f3-9c10-63d3203ab367",
   "metadata": {},
   "outputs": [],
   "source": [
    "# 460 duplicates found in the events dataset\n",
    "# drop duplicates"
   ]
  },
  {
   "cell_type": "code",
   "execution_count": 11,
   "id": "d6909b71-150a-44ff-a609-c09937c83f19",
   "metadata": {},
   "outputs": [],
   "source": [
    "events = events.drop_duplicates()"
   ]
  },
  {
   "cell_type": "code",
   "execution_count": 12,
   "id": "c5eb0063-874a-4dda-8052-17a0f0fefbd0",
   "metadata": {},
   "outputs": [
    {
     "data": {
      "text/plain": [
       "np.int64(0)"
      ]
     },
     "execution_count": 12,
     "metadata": {},
     "output_type": "execute_result"
    }
   ],
   "source": [
    "events.duplicated().sum()           #preview"
   ]
  },
  {
   "cell_type": "code",
   "execution_count": 13,
   "id": "0bb949e3-8cc0-4846-b5c2-74ce7885721d",
   "metadata": {},
   "outputs": [],
   "source": [
    "# converting timestamp column from int64 to datetime"
   ]
  },
  {
   "cell_type": "code",
   "execution_count": 14,
   "id": "7b2dd259-4778-479d-99e5-b30895475488",
   "metadata": {},
   "outputs": [],
   "source": [
    "# converting timestamp column from int64 to datetime \n",
    "events[\"timestamp\"] = pd.to_datetime(events[\"timestamp\"], unit=\"ms\")"
   ]
  },
  {
   "cell_type": "code",
   "execution_count": 15,
   "id": "5d95ab18-ccac-4c11-9400-cede984adea5",
   "metadata": {},
   "outputs": [],
   "source": [
    "# Remove microseconds (set them to 0)\n",
    "events[\"timestamp\"] = events[\"timestamp\"].dt.floor('s')"
   ]
  },
  {
   "cell_type": "code",
   "execution_count": 16,
   "id": "42e81b78-2dfe-46d9-b5c3-74db0e460c58",
   "metadata": {},
   "outputs": [
    {
     "data": {
      "text/html": [
       "<div>\n",
       "<style scoped>\n",
       "    .dataframe tbody tr th:only-of-type {\n",
       "        vertical-align: middle;\n",
       "    }\n",
       "\n",
       "    .dataframe tbody tr th {\n",
       "        vertical-align: top;\n",
       "    }\n",
       "\n",
       "    .dataframe thead th {\n",
       "        text-align: right;\n",
       "    }\n",
       "</style>\n",
       "<table border=\"1\" class=\"dataframe\">\n",
       "  <thead>\n",
       "    <tr style=\"text-align: right;\">\n",
       "      <th></th>\n",
       "      <th>timestamp</th>\n",
       "      <th>visitorid</th>\n",
       "      <th>event</th>\n",
       "      <th>itemid</th>\n",
       "      <th>transactionid</th>\n",
       "    </tr>\n",
       "  </thead>\n",
       "  <tbody>\n",
       "    <tr>\n",
       "      <th>0</th>\n",
       "      <td>2015-06-02 05:02:12</td>\n",
       "      <td>257597</td>\n",
       "      <td>view</td>\n",
       "      <td>355908</td>\n",
       "      <td>no transaction</td>\n",
       "    </tr>\n",
       "    <tr>\n",
       "      <th>1</th>\n",
       "      <td>2015-06-02 05:50:14</td>\n",
       "      <td>992329</td>\n",
       "      <td>view</td>\n",
       "      <td>248676</td>\n",
       "      <td>no transaction</td>\n",
       "    </tr>\n",
       "    <tr>\n",
       "      <th>2</th>\n",
       "      <td>2015-06-02 05:13:19</td>\n",
       "      <td>111016</td>\n",
       "      <td>view</td>\n",
       "      <td>318965</td>\n",
       "      <td>no transaction</td>\n",
       "    </tr>\n",
       "    <tr>\n",
       "      <th>3</th>\n",
       "      <td>2015-06-02 05:12:35</td>\n",
       "      <td>483717</td>\n",
       "      <td>view</td>\n",
       "      <td>253185</td>\n",
       "      <td>no transaction</td>\n",
       "    </tr>\n",
       "    <tr>\n",
       "      <th>4</th>\n",
       "      <td>2015-06-02 05:02:17</td>\n",
       "      <td>951259</td>\n",
       "      <td>view</td>\n",
       "      <td>367447</td>\n",
       "      <td>no transaction</td>\n",
       "    </tr>\n",
       "  </tbody>\n",
       "</table>\n",
       "</div>"
      ],
      "text/plain": [
       "            timestamp  visitorid event  itemid   transactionid\n",
       "0 2015-06-02 05:02:12     257597  view  355908  no transaction\n",
       "1 2015-06-02 05:50:14     992329  view  248676  no transaction\n",
       "2 2015-06-02 05:13:19     111016  view  318965  no transaction\n",
       "3 2015-06-02 05:12:35     483717  view  253185  no transaction\n",
       "4 2015-06-02 05:02:17     951259  view  367447  no transaction"
      ]
     },
     "execution_count": 16,
     "metadata": {},
     "output_type": "execute_result"
    }
   ],
   "source": [
    "events.head() # preview"
   ]
  },
  {
   "cell_type": "code",
   "execution_count": null,
   "id": "0bade97d-7f0b-4025-838c-5b15a3559683",
   "metadata": {},
   "outputs": [],
   "source": []
  },
  {
   "cell_type": "code",
   "execution_count": 17,
   "id": "acf04dbf-54e0-4fb8-a8f9-2046497eefe9",
   "metadata": {},
   "outputs": [],
   "source": [
    "# Detect and handle outliers"
   ]
  },
  {
   "cell_type": "code",
   "execution_count": 18,
   "id": "85b6d3e3-040c-49e4-bc7c-d29b442c948d",
   "metadata": {},
   "outputs": [],
   "source": [
    "Q1 = events[\"itemid\"].quantile(0.25)  # checking outliers for itemid column\n",
    "Q3 = events[\"itemid\"].quantile(0.75)\n",
    "IQR = Q3 - Q1\n",
    "\n",
    "lower_bound = Q1 - 1.5 * IQR\n",
    "upper_bound = Q3 + 1.5 * IQR\n",
    "\n",
    "outliers = events[(events[\"itemid\"] < lower_bound) | (events[\"itemid\"] > upper_bound)]\n"
   ]
  },
  {
   "cell_type": "code",
   "execution_count": 19,
   "id": "74fb19bc-9c63-40dc-8275-1e878847d681",
   "metadata": {},
   "outputs": [
    {
     "name": "stdout",
     "output_type": "stream",
     "text": [
      "Empty DataFrame\n",
      "Columns: [timestamp, visitorid, event, itemid, transactionid]\n",
      "Index: []\n"
     ]
    }
   ],
   "source": [
    "print(outliers) # shows no outliers for the events dataset"
   ]
  },
  {
   "cell_type": "code",
   "execution_count": null,
   "id": "7e181e3a-4c60-4c51-a1a2-70fc76d7118f",
   "metadata": {},
   "outputs": [],
   "source": []
  },
  {
   "cell_type": "code",
   "execution_count": 20,
   "id": "f9217a48-3465-4ec2-b433-e7b09d77d95b",
   "metadata": {},
   "outputs": [
    {
     "data": {
      "image/png": "[encoded data removed]",
      "text/plain": [
       "<Figure size 640x480 with 1 Axes>"
      ]
     },
     "metadata": {},
     "output_type": "display_data"
    }
   ],
   "source": [
    "# Example: Box plot for visitorid column\n",
    "sns.boxplot(x=events['visitorid'])\n",
    "plt.show()"
   ]
  },
  {
   "cell_type": "code",
   "execution_count": 21,
   "id": "0c005a73-eff4-4248-b415-d918e666573f",
   "metadata": {},
   "outputs": [
    {
     "data": {
      "image/png": "[encoded data removed]",
      "text/plain": [
       "<Figure size 640x480 with 1 Axes>"
      ]
     },
     "metadata": {},
     "output_type": "display_data"
    }
   ],
   "source": [
    "sns.boxplot(x=events['itemid'])         # identifying outliers\n",
    "plt.show()                                 # no outliers seen"
   ]
  },
  {
   "cell_type": "code",
   "execution_count": null,
   "id": "83eb8222-ad87-450e-8a22-444f66af19d8",
   "metadata": {},
   "outputs": [],
   "source": []
  },
  {
   "cell_type": "markdown",
   "id": "dae4d315-f7f3-474e-baaa-5651a518680e",
   "metadata": {},
   "source": [
    "# Cleaning the Category dataset"
   ]
  },
  {
   "cell_type": "code",
   "execution_count": 22,
   "id": "ffe01d15-8a1d-45fe-976c-a0e42a23bdb8",
   "metadata": {},
   "outputs": [],
   "source": [
    "category = pd.read_csv(\"C:/Users/Hp/Downloads/OneDrive_2_2-18-2025/TMP2/category_tree.csv\")"
   ]
  },
  {
   "cell_type": "code",
   "execution_count": 23,
   "id": "23ad8f85-5c14-4656-8242-483194736511",
   "metadata": {},
   "outputs": [
    {
     "name": "stdout",
     "output_type": "stream",
     "text": [
      "<class 'pandas.core.frame.DataFrame'>\n",
      "RangeIndex: 1669 entries, 0 to 1668\n",
      "Data columns (total 2 columns):\n",
      " #   Column      Non-Null Count  Dtype  \n",
      "---  ------      --------------  -----  \n",
      " 0   categoryid  1669 non-null   int64  \n",
      " 1   parentid    1644 non-null   float64\n",
      "dtypes: float64(1), int64(1)\n",
      "memory usage: 26.2 KB\n"
     ]
    }
   ],
   "source": [
    "category.info()"
   ]
  },
  {
   "cell_type": "code",
   "execution_count": 24,
   "id": "6b18a703-db54-430e-bf66-3440c8b3c906",
   "metadata": {},
   "outputs": [
    {
     "data": {
      "text/html": [
       "<div>\n",
       "<style scoped>\n",
       "    .dataframe tbody tr th:only-of-type {\n",
       "        vertical-align: middle;\n",
       "    }\n",
       "\n",
       "    .dataframe tbody tr th {\n",
       "        vertical-align: top;\n",
       "    }\n",
       "\n",
       "    .dataframe thead th {\n",
       "        text-align: right;\n",
       "    }\n",
       "</style>\n",
       "<table border=\"1\" class=\"dataframe\">\n",
       "  <thead>\n",
       "    <tr style=\"text-align: right;\">\n",
       "      <th></th>\n",
       "      <th>categoryid</th>\n",
       "      <th>parentid</th>\n",
       "    </tr>\n",
       "  </thead>\n",
       "  <tbody>\n",
       "    <tr>\n",
       "      <th>0</th>\n",
       "      <td>1016</td>\n",
       "      <td>213.0</td>\n",
       "    </tr>\n",
       "    <tr>\n",
       "      <th>1</th>\n",
       "      <td>809</td>\n",
       "      <td>169.0</td>\n",
       "    </tr>\n",
       "    <tr>\n",
       "      <th>2</th>\n",
       "      <td>570</td>\n",
       "      <td>9.0</td>\n",
       "    </tr>\n",
       "    <tr>\n",
       "      <th>3</th>\n",
       "      <td>1691</td>\n",
       "      <td>885.0</td>\n",
       "    </tr>\n",
       "    <tr>\n",
       "      <th>4</th>\n",
       "      <td>536</td>\n",
       "      <td>1691.0</td>\n",
       "    </tr>\n",
       "  </tbody>\n",
       "</table>\n",
       "</div>"
      ],
      "text/plain": [
       "   categoryid  parentid\n",
       "0        1016     213.0\n",
       "1         809     169.0\n",
       "2         570       9.0\n",
       "3        1691     885.0\n",
       "4         536    1691.0"
      ]
     },
     "execution_count": 24,
     "metadata": {},
     "output_type": "execute_result"
    }
   ],
   "source": [
    "category.head()"
   ]
  },
  {
   "cell_type": "code",
   "execution_count": 25,
   "id": "bfc25db1-e63e-4af6-8d4c-f1e014c36e2e",
   "metadata": {},
   "outputs": [
    {
     "data": {
      "text/plain": [
       "categoryid     0\n",
       "parentid      25\n",
       "dtype: int64"
      ]
     },
     "execution_count": 25,
     "metadata": {},
     "output_type": "execute_result"
    }
   ],
   "source": [
    "category.isnull().sum()                    #Counts missing values per column"
   ]
  },
  {
   "cell_type": "code",
   "execution_count": 26,
   "id": "5488059e-a5eb-440c-bd30-0a8d0012e59c",
   "metadata": {},
   "outputs": [],
   "source": [
    "category = category.dropna()                # drop 25 empty rows from the parentid column"
   ]
  },
  {
   "cell_type": "code",
   "execution_count": 27,
   "id": "d4dee4a1-3bd8-4fa5-80e3-77f7539d13ee",
   "metadata": {},
   "outputs": [],
   "source": [
    "    # REMOVE DUPLICATE"
   ]
  },
  {
   "cell_type": "code",
   "execution_count": 28,
   "id": "193bca9f-383b-4034-962a-5a7b386bcd51",
   "metadata": {},
   "outputs": [
    {
     "data": {
      "text/plain": [
       "np.int64(0)"
      ]
     },
     "execution_count": 28,
     "metadata": {},
     "output_type": "execute_result"
    }
   ],
   "source": [
    "category.duplicated().sum()                # no duplicates seen in the category dataset"
   ]
  },
  {
   "cell_type": "code",
   "execution_count": null,
   "id": "d2ff8b7f-4874-43f9-91bc-80b57d186677",
   "metadata": {},
   "outputs": [],
   "source": []
  },
  {
   "cell_type": "code",
   "execution_count": 29,
   "id": "f5172e8c-7a23-43f8-8726-54f7896868d0",
   "metadata": {},
   "outputs": [],
   "source": [
    "    #REMOVE OUTLIERS"
   ]
  },
  {
   "cell_type": "code",
   "execution_count": 30,
   "id": "f1bcab93-1069-4a50-9776-a94901ec09c9",
   "metadata": {},
   "outputs": [
    {
     "data": {
      "image/png": "[encoded data removed]",
      "text/plain": [
       "<Figure size 400x200 with 1 Axes>"
      ]
     },
     "metadata": {},
     "output_type": "display_data"
    }
   ],
   "source": [
    "# Set up the figure and axis\n",
    "plt.figure(figsize=(4, 2))\n",
    "\n",
    "# Create a boxplot for the 4 columns\n",
    "sns.boxplot(data=category[['categoryid', 'parentid']])\n",
    "\n",
    "# Add titles and labels\n",
    "plt.title('Boxplot to Identify Outliers')\n",
    "plt.xlabel('Columns')\n",
    "plt.ylabel('Values')\n",
    "\n",
    "# Show the plot\n",
    "plt.show()                                                     # no outliers seen"
   ]
  },
  {
   "cell_type": "markdown",
   "id": "ae4df304-f831-42a5-ad27-e8a38e65eeae",
   "metadata": {},
   "source": [
    "# Import and clean properties1 dataset"
   ]
  },
  {
   "cell_type": "code",
   "execution_count": 31,
   "id": "eb6f2019-8384-493f-ab38-fa45b18d353c",
   "metadata": {},
   "outputs": [],
   "source": [
    "properties1 = pd.read_csv(\"C:/Users/Hp/Downloads/OneDrive_2_2-18-2025/TMP2/item_properties_part1.1.csv\")"
   ]
  },
  {
   "cell_type": "code",
   "execution_count": 32,
   "id": "df54db3d-c30a-4b84-99d1-e62f19657a1d",
   "metadata": {},
   "outputs": [
    {
     "name": "stdout",
     "output_type": "stream",
     "text": [
      "<class 'pandas.core.frame.DataFrame'>\n",
      "RangeIndex: 10999999 entries, 0 to 10999998\n",
      "Data columns (total 4 columns):\n",
      " #   Column     Dtype \n",
      "---  ------     ----- \n",
      " 0   timestamp  int64 \n",
      " 1   itemid     int64 \n",
      " 2   property   object\n",
      " 3   value      object\n",
      "dtypes: int64(2), object(2)\n",
      "memory usage: 335.7+ MB\n"
     ]
    }
   ],
   "source": [
    "properties1.info()"
   ]
  },
  {
   "cell_type": "code",
   "execution_count": 33,
   "id": "1050335d-541f-4b7b-bdee-feee714d51be",
   "metadata": {},
   "outputs": [
    {
     "data": {
      "text/html": [
       "<div>\n",
       "<style scoped>\n",
       "    .dataframe tbody tr th:only-of-type {\n",
       "        vertical-align: middle;\n",
       "    }\n",
       "\n",
       "    .dataframe tbody tr th {\n",
       "        vertical-align: top;\n",
       "    }\n",
       "\n",
       "    .dataframe thead th {\n",
       "        text-align: right;\n",
       "    }\n",
       "</style>\n",
       "<table border=\"1\" class=\"dataframe\">\n",
       "  <thead>\n",
       "    <tr style=\"text-align: right;\">\n",
       "      <th></th>\n",
       "      <th>timestamp</th>\n",
       "      <th>itemid</th>\n",
       "      <th>property</th>\n",
       "      <th>value</th>\n",
       "    </tr>\n",
       "  </thead>\n",
       "  <tbody>\n",
       "    <tr>\n",
       "      <th>0</th>\n",
       "      <td>1435460400000</td>\n",
       "      <td>460429</td>\n",
       "      <td>categoryid</td>\n",
       "      <td>1338</td>\n",
       "    </tr>\n",
       "    <tr>\n",
       "      <th>1</th>\n",
       "      <td>1441508400000</td>\n",
       "      <td>206783</td>\n",
       "      <td>888</td>\n",
       "      <td>1116713 960601 n277.200</td>\n",
       "    </tr>\n",
       "    <tr>\n",
       "      <th>2</th>\n",
       "      <td>1439089200000</td>\n",
       "      <td>395014</td>\n",
       "      <td>400</td>\n",
       "      <td>n552.000 639502 n720.000 424566</td>\n",
       "    </tr>\n",
       "    <tr>\n",
       "      <th>3</th>\n",
       "      <td>1431226800000</td>\n",
       "      <td>59481</td>\n",
       "      <td>790</td>\n",
       "      <td>n15360.000</td>\n",
       "    </tr>\n",
       "    <tr>\n",
       "      <th>4</th>\n",
       "      <td>1431831600000</td>\n",
       "      <td>156781</td>\n",
       "      <td>917</td>\n",
       "      <td>828513</td>\n",
       "    </tr>\n",
       "  </tbody>\n",
       "</table>\n",
       "</div>"
      ],
      "text/plain": [
       "       timestamp  itemid    property                            value\n",
       "0  1435460400000  460429  categoryid                             1338\n",
       "1  1441508400000  206783         888          1116713 960601 n277.200\n",
       "2  1439089200000  395014         400  n552.000 639502 n720.000 424566\n",
       "3  1431226800000   59481         790                       n15360.000\n",
       "4  1431831600000  156781         917                           828513"
      ]
     },
     "execution_count": 33,
     "metadata": {},
     "output_type": "execute_result"
    }
   ],
   "source": [
    "properties1.head()"
   ]
  },
  {
   "cell_type": "code",
   "execution_count": 34,
   "id": "b4d462a2-a750-4ea5-9c0a-91e6f36511c2",
   "metadata": {},
   "outputs": [
    {
     "data": {
      "text/html": [
       "<div>\n",
       "<style scoped>\n",
       "    .dataframe tbody tr th:only-of-type {\n",
       "        vertical-align: middle;\n",
       "    }\n",
       "\n",
       "    .dataframe tbody tr th {\n",
       "        vertical-align: top;\n",
       "    }\n",
       "\n",
       "    .dataframe thead th {\n",
       "        text-align: right;\n",
       "    }\n",
       "</style>\n",
       "<table border=\"1\" class=\"dataframe\">\n",
       "  <thead>\n",
       "    <tr style=\"text-align: right;\">\n",
       "      <th></th>\n",
       "      <th>timestamp</th>\n",
       "      <th>itemid</th>\n",
       "      <th>property</th>\n",
       "      <th>value</th>\n",
       "    </tr>\n",
       "  </thead>\n",
       "  <tbody>\n",
       "    <tr>\n",
       "      <th>10999994</th>\n",
       "      <td>1439694000000</td>\n",
       "      <td>86599</td>\n",
       "      <td>categoryid</td>\n",
       "      <td>618</td>\n",
       "    </tr>\n",
       "    <tr>\n",
       "      <th>10999995</th>\n",
       "      <td>1435460400000</td>\n",
       "      <td>153032</td>\n",
       "      <td>1066</td>\n",
       "      <td>n1020.000 424566</td>\n",
       "    </tr>\n",
       "    <tr>\n",
       "      <th>10999996</th>\n",
       "      <td>1440298800000</td>\n",
       "      <td>421788</td>\n",
       "      <td>888</td>\n",
       "      <td>35975 856003 37346</td>\n",
       "    </tr>\n",
       "    <tr>\n",
       "      <th>10999997</th>\n",
       "      <td>1437879600000</td>\n",
       "      <td>159792</td>\n",
       "      <td>400</td>\n",
       "      <td>n552.000 639502 n720.000 424566</td>\n",
       "    </tr>\n",
       "    <tr>\n",
       "      <th>10999998</th>\n",
       "      <td>1436065200000</td>\n",
       "      <td>464846</td>\n",
       "      <td>790</td>\n",
       "      <td>n410640.000</td>\n",
       "    </tr>\n",
       "  </tbody>\n",
       "</table>\n",
       "</div>"
      ],
      "text/plain": [
       "              timestamp  itemid    property                            value\n",
       "10999994  1439694000000   86599  categoryid                              618\n",
       "10999995  1435460400000  153032        1066                 n1020.000 424566\n",
       "10999996  1440298800000  421788         888               35975 856003 37346\n",
       "10999997  1437879600000  159792         400  n552.000 639502 n720.000 424566\n",
       "10999998  1436065200000  464846         790                      n410640.000"
      ]
     },
     "execution_count": 34,
     "metadata": {},
     "output_type": "execute_result"
    }
   ],
   "source": [
    "properties1.tail()"
   ]
  },
  {
   "cell_type": "code",
   "execution_count": 35,
   "id": "88088410-9cfc-4926-a57f-5b6807af3e43",
   "metadata": {},
   "outputs": [],
   "source": [
    "  # converting timestamp column from intt64 to datetime datatype"
   ]
  },
  {
   "cell_type": "code",
   "execution_count": 36,
   "id": "d1569a1d-b261-4eb1-b5a2-c313f3825547",
   "metadata": {},
   "outputs": [],
   "source": [
    " properties1[\"timestamp\"] = pd.to_datetime( properties1[\"timestamp\"], unit=\"ms\")"
   ]
  },
  {
   "cell_type": "code",
   "execution_count": 37,
   "id": "a92539b3-10a9-4c9a-91f9-6ab9a19e66ac",
   "metadata": {},
   "outputs": [],
   "source": [
    " properties1[\"timestamp\"] =  properties1[\"timestamp\"].dt.floor(\"s\")"
   ]
  },
  {
   "cell_type": "code",
   "execution_count": 38,
   "id": "fbbbc828-47d0-408e-9bc0-d2999eec1a54",
   "metadata": {},
   "outputs": [
    {
     "data": {
      "text/html": [
       "<div>\n",
       "<style scoped>\n",
       "    .dataframe tbody tr th:only-of-type {\n",
       "        vertical-align: middle;\n",
       "    }\n",
       "\n",
       "    .dataframe tbody tr th {\n",
       "        vertical-align: top;\n",
       "    }\n",
       "\n",
       "    .dataframe thead th {\n",
       "        text-align: right;\n",
       "    }\n",
       "</style>\n",
       "<table border=\"1\" class=\"dataframe\">\n",
       "  <thead>\n",
       "    <tr style=\"text-align: right;\">\n",
       "      <th></th>\n",
       "      <th>timestamp</th>\n",
       "      <th>itemid</th>\n",
       "      <th>property</th>\n",
       "      <th>value</th>\n",
       "    </tr>\n",
       "  </thead>\n",
       "  <tbody>\n",
       "    <tr>\n",
       "      <th>0</th>\n",
       "      <td>2015-06-28 03:00:00</td>\n",
       "      <td>460429</td>\n",
       "      <td>categoryid</td>\n",
       "      <td>1338</td>\n",
       "    </tr>\n",
       "    <tr>\n",
       "      <th>1</th>\n",
       "      <td>2015-09-06 03:00:00</td>\n",
       "      <td>206783</td>\n",
       "      <td>888</td>\n",
       "      <td>1116713 960601 n277.200</td>\n",
       "    </tr>\n",
       "    <tr>\n",
       "      <th>2</th>\n",
       "      <td>2015-08-09 03:00:00</td>\n",
       "      <td>395014</td>\n",
       "      <td>400</td>\n",
       "      <td>n552.000 639502 n720.000 424566</td>\n",
       "    </tr>\n",
       "    <tr>\n",
       "      <th>3</th>\n",
       "      <td>2015-05-10 03:00:00</td>\n",
       "      <td>59481</td>\n",
       "      <td>790</td>\n",
       "      <td>n15360.000</td>\n",
       "    </tr>\n",
       "    <tr>\n",
       "      <th>4</th>\n",
       "      <td>2015-05-17 03:00:00</td>\n",
       "      <td>156781</td>\n",
       "      <td>917</td>\n",
       "      <td>828513</td>\n",
       "    </tr>\n",
       "  </tbody>\n",
       "</table>\n",
       "</div>"
      ],
      "text/plain": [
       "            timestamp  itemid    property                            value\n",
       "0 2015-06-28 03:00:00  460429  categoryid                             1338\n",
       "1 2015-09-06 03:00:00  206783         888          1116713 960601 n277.200\n",
       "2 2015-08-09 03:00:00  395014         400  n552.000 639502 n720.000 424566\n",
       "3 2015-05-10 03:00:00   59481         790                       n15360.000\n",
       "4 2015-05-17 03:00:00  156781         917                           828513"
      ]
     },
     "execution_count": 38,
     "metadata": {},
     "output_type": "execute_result"
    }
   ],
   "source": [
    "properties1.head()"
   ]
  },
  {
   "cell_type": "code",
   "execution_count": 39,
   "id": "0623b632-e387-4154-ab73-305ca545f6e2",
   "metadata": {},
   "outputs": [
    {
     "name": "stdout",
     "output_type": "stream",
     "text": [
      "<class 'pandas.core.frame.DataFrame'>\n",
      "RangeIndex: 10999999 entries, 0 to 10999998\n",
      "Data columns (total 4 columns):\n",
      " #   Column     Dtype         \n",
      "---  ------     -----         \n",
      " 0   timestamp  datetime64[ns]\n",
      " 1   itemid     int64         \n",
      " 2   property   object        \n",
      " 3   value      object        \n",
      "dtypes: datetime64[ns](1), int64(1), object(2)\n",
      "memory usage: 335.7+ MB\n"
     ]
    }
   ],
   "source": [
    "properties1.info()                           # preview"
   ]
  },
  {
   "cell_type": "code",
   "execution_count": 40,
   "id": "37336eac-ea63-48e8-bfdb-7be0573cf774",
   "metadata": {},
   "outputs": [
    {
     "data": {
      "text/plain": [
       "0     categoryid\n",
       "1            888\n",
       "2            400\n",
       "3            790\n",
       "4            917\n",
       "5      available\n",
       "6            213\n",
       "7              6\n",
       "8            202\n",
       "9            451\n",
       "10           888\n",
       "11           400\n",
       "12           227\n",
       "13           839\n",
       "14           790\n",
       "15     available\n",
       "16           790\n",
       "17           888\n",
       "18             0\n",
       "19          1022\n",
       "20           566\n",
       "Name: property, dtype: object"
      ]
     },
     "execution_count": 40,
     "metadata": {},
     "output_type": "execute_result"
    }
   ],
   "source": [
    "# View the 'property' column \n",
    "properties1.loc[0:20, 'property']"
   ]
  },
  {
   "cell_type": "code",
   "execution_count": 41,
   "id": "8b32b54d-3ad4-449f-b33b-7bceef5b5f23",
   "metadata": {},
   "outputs": [],
   "source": [
    "    # fix the 'property' column "
   ]
  },
  {
   "cell_type": "code",
   "execution_count": 42,
   "id": "06671992-14f5-4b9d-ba1a-59c8d748f631",
   "metadata": {},
   "outputs": [],
   "source": [
    "# Convert 'property' column to numeric, setting errors='coerce' to turn non-numeric values into NaN\n",
    "properties1[\"property\"] = pd.to_numeric(properties1[\"property\"], errors=\"coerce\")"
   ]
  },
  {
   "cell_type": "code",
   "execution_count": 43,
   "id": "db994b20-dd28-4dc3-97ee-1b74f293fed9",
   "metadata": {},
   "outputs": [],
   "source": [
    "# Drop rows where 'property' is NaN\n",
    "properties1 = properties1.dropna(subset=[\"property\"])"
   ]
  },
  {
   "cell_type": "code",
   "execution_count": 44,
   "id": "d16ede98-ccb7-4951-9857-f2c1127291a9",
   "metadata": {},
   "outputs": [],
   "source": [
    "# Convert 'property' \n",
    "properties1[\"property\"] = properties1[\"property\"].astype(int)"
   ]
  },
  {
   "cell_type": "code",
   "execution_count": 45,
   "id": "1b356f3a-fc0f-485b-9376-23788c9b2600",
   "metadata": {},
   "outputs": [
    {
     "name": "stdout",
     "output_type": "stream",
     "text": [
      "            timestamp  itemid  property                            value\n",
      "1 2015-09-06 03:00:00  206783       888          1116713 960601 n277.200\n",
      "2 2015-08-09 03:00:00  395014       400  n552.000 639502 n720.000 424566\n",
      "3 2015-05-10 03:00:00   59481       790                       n15360.000\n",
      "4 2015-05-17 03:00:00  156781       917                           828513\n",
      "6 2015-06-14 03:00:00   89534       213                          1121373\n"
     ]
    }
   ],
   "source": [
    "# Display cleaned data frame\n",
    "print(properties1.head())"
   ]
  },
  {
   "cell_type": "code",
   "execution_count": null,
   "id": "747e11ce-7f3e-47a4-bafa-62d465ebf097",
   "metadata": {},
   "outputs": [],
   "source": []
  },
  {
   "cell_type": "markdown",
   "id": "b9bb569d-ed60-44ad-a101-469855db48ed",
   "metadata": {},
   "source": [
    "    #Cleaning the value column"
   ]
  },
  {
   "cell_type": "code",
   "execution_count": 46,
   "id": "8ebf2a09-2e99-4d9e-bd95-e4fbd884508f",
   "metadata": {},
   "outputs": [
    {
     "data": {
      "text/plain": [
       "1            1116713 960601 n277.200\n",
       "2    n552.000 639502 n720.000 424566\n",
       "3                         n15360.000\n",
       "4                             828513\n",
       "Name: value, dtype: object"
      ]
     },
     "execution_count": 46,
     "metadata": {},
     "output_type": "execute_result"
    }
   ],
   "source": [
    "properties1.loc[0:5, 'value']"
   ]
  },
  {
   "cell_type": "code",
   "execution_count": 47,
   "id": "6dd7f6fb-1b43-41b8-82b1-3814bbeb69d4",
   "metadata": {},
   "outputs": [],
   "source": [
    "# Remove non-numeric characters\n",
    "properties1[\"value\"] = properties1[\"value\"].str.replace(r\"[^\\d.]\", \"\", regex=True)"
   ]
  },
  {
   "cell_type": "code",
   "execution_count": 48,
   "id": "4be83705-0ba0-4780-9154-a764f6bca597",
   "metadata": {},
   "outputs": [],
   "source": [
    "# Convert to numeric\n",
    "properties1[\"value\"] = pd.to_numeric(properties1[\"value\"], errors=\"coerce\")"
   ]
  },
  {
   "cell_type": "code",
   "execution_count": 49,
   "id": "4e92c97b-29b2-487b-b62e-2ae50de38f5e",
   "metadata": {},
   "outputs": [],
   "source": [
    "# Drop any rows where 'value' became NaN \n",
    "properties1 = properties1.dropna(subset=[\"value\"])"
   ]
  },
  {
   "cell_type": "code",
   "execution_count": 50,
   "id": "a0331e50-9ab4-41ee-bbbb-9f57f8297e03",
   "metadata": {},
   "outputs": [
    {
     "name": "stdout",
     "output_type": "stream",
     "text": [
      "<class 'pandas.core.frame.DataFrame'>\n",
      "Index: 9343018 entries, 1 to 10999998\n",
      "Data columns (total 4 columns):\n",
      " #   Column     Dtype         \n",
      "---  ------     -----         \n",
      " 0   timestamp  datetime64[ns]\n",
      " 1   itemid     int64         \n",
      " 2   property   int64         \n",
      " 3   value      float64       \n",
      "dtypes: datetime64[ns](1), float64(1), int64(2)\n",
      "memory usage: 356.4 MB\n",
      "None\n"
     ]
    }
   ],
   "source": [
    "# Display cleaned dataset\n",
    "print(properties1.info())"
   ]
  },
  {
   "cell_type": "code",
   "execution_count": null,
   "id": "9a2aca0c-6aca-4a3d-bad2-22d9cec1be4b",
   "metadata": {},
   "outputs": [],
   "source": []
  },
  {
   "cell_type": "code",
   "execution_count": 51,
   "id": "88b6b96e-f1e6-4806-86be-bb578a370d4a",
   "metadata": {},
   "outputs": [
    {
     "data": {
      "text/plain": [
       "timestamp    0\n",
       "itemid       0\n",
       "property     0\n",
       "value        0\n",
       "dtype: int64"
      ]
     },
     "execution_count": 51,
     "metadata": {},
     "output_type": "execute_result"
    }
   ],
   "source": [
    "   properties1.isnull().sum()          # Checking for null values\n",
    "                                       # no empty rows detected"
   ]
  },
  {
   "cell_type": "code",
   "execution_count": null,
   "id": "99ea98ee-dfda-4594-b2f4-e1ac33c32696",
   "metadata": {},
   "outputs": [],
   "source": []
  },
  {
   "cell_type": "code",
   "execution_count": 52,
   "id": "f71302b2-96a6-4f39-8ad1-11b68843c79c",
   "metadata": {},
   "outputs": [
    {
     "data": {
      "text/plain": [
       "np.int64(0)"
      ]
     },
     "execution_count": 52,
     "metadata": {},
     "output_type": "execute_result"
    }
   ],
   "source": [
    " properties1.duplicated().sum()             # checking for duplicates\n",
    "                                            # no duplicates seen"
   ]
  },
  {
   "cell_type": "code",
   "execution_count": 53,
   "id": "684b6926-375e-456e-a338-45a2e3bcc902",
   "metadata": {},
   "outputs": [
    {
     "data": {
      "image/png": "[encoded data removed]",
      "text/plain": [
       "<Figure size 400x200 with 1 Axes>"
      ]
     },
     "metadata": {},
     "output_type": "display_data"
    }
   ],
   "source": [
    "# Set up the figure and axis\n",
    "plt.figure(figsize=(4, 2))\n",
    "\n",
    "# Create a boxplot for the int columns\n",
    "sns.boxplot(data=properties1[['itemid', 'property']])\n",
    "\n",
    "# Add titles and labels\n",
    "plt.title('Boxplot to Identify Outliers')\n",
    "plt.xlabel('Columns')\n",
    "plt.ylabel('Values')\n",
    "\n",
    "# Show the plot\n",
    "plt.show()                                      # no outliers seen"
   ]
  },
  {
   "cell_type": "code",
   "execution_count": null,
   "id": "902dc661-6481-4931-bd5e-fd12bc3950cd",
   "metadata": {},
   "outputs": [],
   "source": [
    "    # converted the data type of timestamp column from int64 to date time\n",
    "    # converted the data type of property column from obj to numeric\n",
    "    # converted the non-numreic values of property column to NaN\n",
    "    # dropped non-numeric values from the property column\n",
    "    # dropped null values from the property dataset\n",
    "    # checked and removed duplicates\n",
    "    # removed outliers"
   ]
  },
  {
   "cell_type": "code",
   "execution_count": null,
   "id": "e4630366-5996-4a86-b66a-f5055dd85a03",
   "metadata": {},
   "outputs": [],
   "source": [
    "    "
   ]
  },
  {
   "cell_type": "markdown",
   "id": "9c7acc01-9e62-4302-8ca9-3de394de5d08",
   "metadata": {},
   "source": [
    " # cleaning Properties2 dataset"
   ]
  },
  {
   "cell_type": "code",
   "execution_count": 54,
   "id": "62c6d527-cc09-4b4f-b1f5-81a0621e9972",
   "metadata": {},
   "outputs": [],
   "source": [
    "properties2 = pd.read_csv(\"C:/Users/Hp/Downloads/OneDrive_2_2-18-2025/TMP2/item_properties_part2.csv\")"
   ]
  },
  {
   "cell_type": "code",
   "execution_count": 55,
   "id": "b7f5b4ae-bb1f-4709-a3ee-4b12ccdbfcfd",
   "metadata": {},
   "outputs": [
    {
     "name": "stdout",
     "output_type": "stream",
     "text": [
      "<class 'pandas.core.frame.DataFrame'>\n",
      "RangeIndex: 9275903 entries, 0 to 9275902\n",
      "Data columns (total 4 columns):\n",
      " #   Column     Dtype \n",
      "---  ------     ----- \n",
      " 0   timestamp  int64 \n",
      " 1   itemid     int64 \n",
      " 2   property   object\n",
      " 3   value      object\n",
      "dtypes: int64(2), object(2)\n",
      "memory usage: 283.1+ MB\n"
     ]
    }
   ],
   "source": [
    "properties2.info()"
   ]
  },
  {
   "cell_type": "code",
   "execution_count": 56,
   "id": "610b4419-ca40-4ca3-9b6e-1fbecda104dc",
   "metadata": {},
   "outputs": [
    {
     "data": {
      "text/html": [
       "<div>\n",
       "<style scoped>\n",
       "    .dataframe tbody tr th:only-of-type {\n",
       "        vertical-align: middle;\n",
       "    }\n",
       "\n",
       "    .dataframe tbody tr th {\n",
       "        vertical-align: top;\n",
       "    }\n",
       "\n",
       "    .dataframe thead th {\n",
       "        text-align: right;\n",
       "    }\n",
       "</style>\n",
       "<table border=\"1\" class=\"dataframe\">\n",
       "  <thead>\n",
       "    <tr style=\"text-align: right;\">\n",
       "      <th></th>\n",
       "      <th>timestamp</th>\n",
       "      <th>itemid</th>\n",
       "      <th>property</th>\n",
       "      <th>value</th>\n",
       "    </tr>\n",
       "  </thead>\n",
       "  <tbody>\n",
       "    <tr>\n",
       "      <th>0</th>\n",
       "      <td>1433041200000</td>\n",
       "      <td>183478</td>\n",
       "      <td>561</td>\n",
       "      <td>769062</td>\n",
       "    </tr>\n",
       "    <tr>\n",
       "      <th>1</th>\n",
       "      <td>1439694000000</td>\n",
       "      <td>132256</td>\n",
       "      <td>976</td>\n",
       "      <td>n26.400 1135780</td>\n",
       "    </tr>\n",
       "    <tr>\n",
       "      <th>2</th>\n",
       "      <td>1435460400000</td>\n",
       "      <td>420307</td>\n",
       "      <td>921</td>\n",
       "      <td>1149317 1257525</td>\n",
       "    </tr>\n",
       "    <tr>\n",
       "      <th>3</th>\n",
       "      <td>1431831600000</td>\n",
       "      <td>403324</td>\n",
       "      <td>917</td>\n",
       "      <td>1204143</td>\n",
       "    </tr>\n",
       "    <tr>\n",
       "      <th>4</th>\n",
       "      <td>1435460400000</td>\n",
       "      <td>230701</td>\n",
       "      <td>521</td>\n",
       "      <td>769062</td>\n",
       "    </tr>\n",
       "  </tbody>\n",
       "</table>\n",
       "</div>"
      ],
      "text/plain": [
       "       timestamp  itemid property            value\n",
       "0  1433041200000  183478      561           769062\n",
       "1  1439694000000  132256      976  n26.400 1135780\n",
       "2  1435460400000  420307      921  1149317 1257525\n",
       "3  1431831600000  403324      917          1204143\n",
       "4  1435460400000  230701      521           769062"
      ]
     },
     "execution_count": 56,
     "metadata": {},
     "output_type": "execute_result"
    }
   ],
   "source": [
    "properties2.head()"
   ]
  },
  {
   "cell_type": "code",
   "execution_count": null,
   "id": "af0627b5-80d5-48a2-90d4-d76eea680db9",
   "metadata": {},
   "outputs": [],
   "source": []
  },
  {
   "cell_type": "code",
   "execution_count": 57,
   "id": "4b01e9d5-ce2e-437e-b41b-be7def0f4128",
   "metadata": {},
   "outputs": [],
   "source": [
    "    # fix timestamp column\n",
    "    # convert time stamp column from int64 to date time\n",
    "properties2[\"timestamp\"] = pd.to_datetime(properties2[\"timestamp\"], unit=\"ms\")"
   ]
  },
  {
   "cell_type": "code",
   "execution_count": 58,
   "id": "09070c4a-5198-4f38-bb6b-16bcea7d42d1",
   "metadata": {},
   "outputs": [],
   "source": [
    "properties2[\"timestamp\"] = properties2[\"timestamp\"].dt.floor(\"s\")"
   ]
  },
  {
   "cell_type": "code",
   "execution_count": 59,
   "id": "8321c1ee-11e4-4152-b1c5-d3806ac1eff5",
   "metadata": {},
   "outputs": [
    {
     "data": {
      "text/html": [
       "<div>\n",
       "<style scoped>\n",
       "    .dataframe tbody tr th:only-of-type {\n",
       "        vertical-align: middle;\n",
       "    }\n",
       "\n",
       "    .dataframe tbody tr th {\n",
       "        vertical-align: top;\n",
       "    }\n",
       "\n",
       "    .dataframe thead th {\n",
       "        text-align: right;\n",
       "    }\n",
       "</style>\n",
       "<table border=\"1\" class=\"dataframe\">\n",
       "  <thead>\n",
       "    <tr style=\"text-align: right;\">\n",
       "      <th></th>\n",
       "      <th>timestamp</th>\n",
       "      <th>itemid</th>\n",
       "      <th>property</th>\n",
       "      <th>value</th>\n",
       "    </tr>\n",
       "  </thead>\n",
       "  <tbody>\n",
       "    <tr>\n",
       "      <th>0</th>\n",
       "      <td>2015-05-31 03:00:00</td>\n",
       "      <td>183478</td>\n",
       "      <td>561</td>\n",
       "      <td>769062</td>\n",
       "    </tr>\n",
       "    <tr>\n",
       "      <th>1</th>\n",
       "      <td>2015-08-16 03:00:00</td>\n",
       "      <td>132256</td>\n",
       "      <td>976</td>\n",
       "      <td>n26.400 1135780</td>\n",
       "    </tr>\n",
       "    <tr>\n",
       "      <th>2</th>\n",
       "      <td>2015-06-28 03:00:00</td>\n",
       "      <td>420307</td>\n",
       "      <td>921</td>\n",
       "      <td>1149317 1257525</td>\n",
       "    </tr>\n",
       "    <tr>\n",
       "      <th>3</th>\n",
       "      <td>2015-05-17 03:00:00</td>\n",
       "      <td>403324</td>\n",
       "      <td>917</td>\n",
       "      <td>1204143</td>\n",
       "    </tr>\n",
       "    <tr>\n",
       "      <th>4</th>\n",
       "      <td>2015-06-28 03:00:00</td>\n",
       "      <td>230701</td>\n",
       "      <td>521</td>\n",
       "      <td>769062</td>\n",
       "    </tr>\n",
       "  </tbody>\n",
       "</table>\n",
       "</div>"
      ],
      "text/plain": [
       "            timestamp  itemid property            value\n",
       "0 2015-05-31 03:00:00  183478      561           769062\n",
       "1 2015-08-16 03:00:00  132256      976  n26.400 1135780\n",
       "2 2015-06-28 03:00:00  420307      921  1149317 1257525\n",
       "3 2015-05-17 03:00:00  403324      917          1204143\n",
       "4 2015-06-28 03:00:00  230701      521           769062"
      ]
     },
     "execution_count": 59,
     "metadata": {},
     "output_type": "execute_result"
    }
   ],
   "source": [
    "properties2.head()"
   ]
  },
  {
   "cell_type": "code",
   "execution_count": null,
   "id": "cc98f007-969f-4ed4-ad67-71d0efe8b002",
   "metadata": {},
   "outputs": [],
   "source": []
  },
  {
   "cell_type": "code",
   "execution_count": 60,
   "id": "cfac5847-6b25-4ba5-9515-c34f38f55984",
   "metadata": {},
   "outputs": [],
   "source": [
    "    # fix the property column"
   ]
  },
  {
   "cell_type": "code",
   "execution_count": 61,
   "id": "9ee615ac-55d6-4e7a-863b-842bd3aa748c",
   "metadata": {},
   "outputs": [
    {
     "data": {
      "text/plain": [
       "0            561\n",
       "1            976\n",
       "2            921\n",
       "3            917\n",
       "4            521\n",
       "5            202\n",
       "6            888\n",
       "7            888\n",
       "8            888\n",
       "9             71\n",
       "10           202\n",
       "11           202\n",
       "12           663\n",
       "13            71\n",
       "14           283\n",
       "15    categoryid\n",
       "16           888\n",
       "17           575\n",
       "18           283\n",
       "19           544\n",
       "20            28\n",
       "Name: property, dtype: object"
      ]
     },
     "execution_count": 61,
     "metadata": {},
     "output_type": "execute_result"
    }
   ],
   "source": [
    "# View the 'property' column \n",
    "properties2.loc[0:20, 'property']"
   ]
  },
  {
   "cell_type": "code",
   "execution_count": 62,
   "id": "d9912f2e-af9d-45ae-901d-e815707e437a",
   "metadata": {},
   "outputs": [],
   "source": [
    "# Convert 'property' column to numeric, setting errors='coerce' to turn non-numeric values into NaN\n",
    "properties2[\"property\"] = pd.to_numeric(properties2[\"property\"], errors=\"coerce\")"
   ]
  },
  {
   "cell_type": "code",
   "execution_count": 63,
   "id": "b9f56fb0-73ee-4603-b0de-42fc438acbce",
   "metadata": {},
   "outputs": [],
   "source": [
    "# Drop rows where 'property' is NaN\n",
    "properties2 = properties2.dropna(subset=[\"property\"])"
   ]
  },
  {
   "cell_type": "code",
   "execution_count": 64,
   "id": "1463ce45-f876-4c2c-bfeb-5900f7a52434",
   "metadata": {},
   "outputs": [],
   "source": [
    "# Drop rows where 'property' is NaN\n",
    "properties2 = properties2.dropna(subset=[\"property\"])"
   ]
  },
  {
   "cell_type": "code",
   "execution_count": 65,
   "id": "ac375d5d-8ca3-4ba8-bfba-199d28ea9133",
   "metadata": {},
   "outputs": [],
   "source": [
    "# Convert 'property' \n",
    "properties2[\"property\"] = properties2[\"property\"].astype(int)"
   ]
  },
  {
   "cell_type": "code",
   "execution_count": 66,
   "id": "6f1b0adb-180f-4330-989f-d4d6b10b0b5b",
   "metadata": {},
   "outputs": [
    {
     "data": {
      "text/html": [
       "<div>\n",
       "<style scoped>\n",
       "    .dataframe tbody tr th:only-of-type {\n",
       "        vertical-align: middle;\n",
       "    }\n",
       "\n",
       "    .dataframe tbody tr th {\n",
       "        vertical-align: top;\n",
       "    }\n",
       "\n",
       "    .dataframe thead th {\n",
       "        text-align: right;\n",
       "    }\n",
       "</style>\n",
       "<table border=\"1\" class=\"dataframe\">\n",
       "  <thead>\n",
       "    <tr style=\"text-align: right;\">\n",
       "      <th></th>\n",
       "      <th>timestamp</th>\n",
       "      <th>itemid</th>\n",
       "      <th>property</th>\n",
       "      <th>value</th>\n",
       "    </tr>\n",
       "  </thead>\n",
       "  <tbody>\n",
       "    <tr>\n",
       "      <th>0</th>\n",
       "      <td>2015-05-31 03:00:00</td>\n",
       "      <td>183478</td>\n",
       "      <td>561</td>\n",
       "      <td>769062</td>\n",
       "    </tr>\n",
       "    <tr>\n",
       "      <th>1</th>\n",
       "      <td>2015-08-16 03:00:00</td>\n",
       "      <td>132256</td>\n",
       "      <td>976</td>\n",
       "      <td>n26.400 1135780</td>\n",
       "    </tr>\n",
       "    <tr>\n",
       "      <th>2</th>\n",
       "      <td>2015-06-28 03:00:00</td>\n",
       "      <td>420307</td>\n",
       "      <td>921</td>\n",
       "      <td>1149317 1257525</td>\n",
       "    </tr>\n",
       "    <tr>\n",
       "      <th>3</th>\n",
       "      <td>2015-05-17 03:00:00</td>\n",
       "      <td>403324</td>\n",
       "      <td>917</td>\n",
       "      <td>1204143</td>\n",
       "    </tr>\n",
       "    <tr>\n",
       "      <th>4</th>\n",
       "      <td>2015-06-28 03:00:00</td>\n",
       "      <td>230701</td>\n",
       "      <td>521</td>\n",
       "      <td>769062</td>\n",
       "    </tr>\n",
       "  </tbody>\n",
       "</table>\n",
       "</div>"
      ],
      "text/plain": [
       "            timestamp  itemid  property            value\n",
       "0 2015-05-31 03:00:00  183478       561           769062\n",
       "1 2015-08-16 03:00:00  132256       976  n26.400 1135780\n",
       "2 2015-06-28 03:00:00  420307       921  1149317 1257525\n",
       "3 2015-05-17 03:00:00  403324       917          1204143\n",
       "4 2015-06-28 03:00:00  230701       521           769062"
      ]
     },
     "execution_count": 66,
     "metadata": {},
     "output_type": "execute_result"
    }
   ],
   "source": [
    "    # preview dataset\n",
    "properties2.head()"
   ]
  },
  {
   "cell_type": "code",
   "execution_count": 67,
   "id": "dfb287d2-8ec6-4ed0-8a77-a832c1756038",
   "metadata": {},
   "outputs": [
    {
     "data": {
      "text/plain": [
       "0             769062\n",
       "1    n26.400 1135780\n",
       "2    1149317 1257525\n",
       "3            1204143\n",
       "4             769062\n",
       "5             820407\n",
       "Name: value, dtype: object"
      ]
     },
     "execution_count": 67,
     "metadata": {},
     "output_type": "execute_result"
    }
   ],
   "source": [
    "    # cleaning the values column\n",
    "    # View the 'value' column \n",
    "properties2.loc[0:5, 'value']"
   ]
  },
  {
   "cell_type": "code",
   "execution_count": 68,
   "id": "5f35f702-0625-430a-b6bb-ea29ca451d1c",
   "metadata": {},
   "outputs": [],
   "source": [
    "# Remove non-numeric characters (assuming 'n' is the only unwanted character)\n",
    "properties2[\"value\"] = properties2[\"value\"].str.replace(r\"[^\\d.]\", \"\", regex=True)"
   ]
  },
  {
   "cell_type": "code",
   "execution_count": 69,
   "id": "6f2897a6-0c2f-462d-a19c-6d9ce2ec0f85",
   "metadata": {},
   "outputs": [],
   "source": [
    "# Convert to numeric\n",
    "properties2[\"value\"] = pd.to_numeric(properties2[\"value\"], errors=\"coerce\")"
   ]
  },
  {
   "cell_type": "code",
   "execution_count": 70,
   "id": "a10b0f9a-055d-49a7-b124-22c94d4cda95",
   "metadata": {},
   "outputs": [],
   "source": [
    "# Drop any rows where 'value' became NaN due to invalid data\n",
    "properties2 = properties2.dropna(subset=[\"value\"])"
   ]
  },
  {
   "cell_type": "code",
   "execution_count": 71,
   "id": "9dd2ece0-f3b5-40f3-8a02-be5aa0f09ee4",
   "metadata": {},
   "outputs": [
    {
     "name": "stdout",
     "output_type": "stream",
     "text": [
      "            timestamp  itemid  property         value\n",
      "0 2015-05-31 03:00:00  183478       561  7.690620e+05\n",
      "1 2015-08-16 03:00:00  132256       976  2.640011e+01\n",
      "2 2015-06-28 03:00:00  420307       921  1.149317e+13\n",
      "3 2015-05-17 03:00:00  403324       917  1.204143e+06\n",
      "4 2015-06-28 03:00:00  230701       521  7.690620e+05\n"
     ]
    }
   ],
   "source": [
    "# Display cleaned dataset\n",
    "print(properties2.head())"
   ]
  },
  {
   "cell_type": "code",
   "execution_count": 72,
   "id": "c140bc18-7230-4e54-8c4e-49d0ca8018f4",
   "metadata": {},
   "outputs": [],
   "source": [
    "    # detect and remove duplicates"
   ]
  },
  {
   "cell_type": "code",
   "execution_count": 73,
   "id": "95331738-ea8a-4309-a221-3f4d56ac062d",
   "metadata": {},
   "outputs": [
    {
     "data": {
      "text/plain": [
       "np.int64(0)"
      ]
     },
     "execution_count": 73,
     "metadata": {},
     "output_type": "execute_result"
    }
   ],
   "source": [
    "properties2.duplicated().sum()         # no duplicates found"
   ]
  },
  {
   "cell_type": "code",
   "execution_count": 74,
   "id": "ea9f8f40-bdfe-4a1b-9f22-c83d66b184ce",
   "metadata": {},
   "outputs": [
    {
     "data": {
      "text/html": [
       "<div>\n",
       "<style scoped>\n",
       "    .dataframe tbody tr th:only-of-type {\n",
       "        vertical-align: middle;\n",
       "    }\n",
       "\n",
       "    .dataframe tbody tr th {\n",
       "        vertical-align: top;\n",
       "    }\n",
       "\n",
       "    .dataframe thead th {\n",
       "        text-align: right;\n",
       "    }\n",
       "</style>\n",
       "<table border=\"1\" class=\"dataframe\">\n",
       "  <thead>\n",
       "    <tr style=\"text-align: right;\">\n",
       "      <th></th>\n",
       "      <th>timestamp</th>\n",
       "      <th>itemid</th>\n",
       "      <th>property</th>\n",
       "      <th>value</th>\n",
       "    </tr>\n",
       "  </thead>\n",
       "  <tbody>\n",
       "    <tr>\n",
       "      <th>0</th>\n",
       "      <td>2015-05-31 03:00:00</td>\n",
       "      <td>183478</td>\n",
       "      <td>561</td>\n",
       "      <td>7.690620e+05</td>\n",
       "    </tr>\n",
       "    <tr>\n",
       "      <th>1</th>\n",
       "      <td>2015-08-16 03:00:00</td>\n",
       "      <td>132256</td>\n",
       "      <td>976</td>\n",
       "      <td>2.640011e+01</td>\n",
       "    </tr>\n",
       "    <tr>\n",
       "      <th>2</th>\n",
       "      <td>2015-06-28 03:00:00</td>\n",
       "      <td>420307</td>\n",
       "      <td>921</td>\n",
       "      <td>1.149317e+13</td>\n",
       "    </tr>\n",
       "    <tr>\n",
       "      <th>3</th>\n",
       "      <td>2015-05-17 03:00:00</td>\n",
       "      <td>403324</td>\n",
       "      <td>917</td>\n",
       "      <td>1.204143e+06</td>\n",
       "    </tr>\n",
       "    <tr>\n",
       "      <th>4</th>\n",
       "      <td>2015-06-28 03:00:00</td>\n",
       "      <td>230701</td>\n",
       "      <td>521</td>\n",
       "      <td>7.690620e+05</td>\n",
       "    </tr>\n",
       "  </tbody>\n",
       "</table>\n",
       "</div>"
      ],
      "text/plain": [
       "            timestamp  itemid  property         value\n",
       "0 2015-05-31 03:00:00  183478       561  7.690620e+05\n",
       "1 2015-08-16 03:00:00  132256       976  2.640011e+01\n",
       "2 2015-06-28 03:00:00  420307       921  1.149317e+13\n",
       "3 2015-05-17 03:00:00  403324       917  1.204143e+06\n",
       "4 2015-06-28 03:00:00  230701       521  7.690620e+05"
      ]
     },
     "execution_count": 74,
     "metadata": {},
     "output_type": "execute_result"
    }
   ],
   "source": [
    "properties2.head()"
   ]
  },
  {
   "cell_type": "code",
   "execution_count": null,
   "id": "9f2e64fa-b185-4286-a14d-2d27ebf11387",
   "metadata": {},
   "outputs": [],
   "source": []
  },
  {
   "cell_type": "markdown",
   "id": "69b99560-9a97-4505-b35d-d690a1e7b314",
   "metadata": {},
   "source": [
    "# Analysis and problem solving"
   ]
  },
  {
   "cell_type": "code",
   "execution_count": 75,
   "id": "9c9d8ca9-8131-4493-bba5-499e8cfa4e18",
   "metadata": {},
   "outputs": [
    {
     "name": "stdout",
     "output_type": "stream",
     "text": [
      "timestamp        2357232\n",
      "visitorid        1407580\n",
      "event                  3\n",
      "itemid            235061\n",
      "transactionid      17673\n",
      "dtype: int64\n"
     ]
    }
   ],
   "source": [
    "# identifying unique values in events dataset\n",
    "# Get the count of unique values in each column\n",
    "unique_events = events.nunique()\n",
    "print(unique_events)"
   ]
  },
  {
   "cell_type": "code",
   "execution_count": 76,
   "id": "3c478631-81b5-4d9f-9fad-539ba136f8a3",
   "metadata": {},
   "outputs": [
    {
     "name": "stdout",
     "output_type": "stream",
     "text": [
      "categoryid    1644\n",
      "parentid       362\n",
      "dtype: int64\n"
     ]
    }
   ],
   "source": [
    "# identifying unique values in category dataset\n",
    "# Get the count of unique values in each column\n",
    "unique_category = category.nunique()\n",
    "print(unique_category)"
   ]
  },
  {
   "cell_type": "code",
   "execution_count": 77,
   "id": "d5d72a86-a4d4-4f18-b00c-0d82a095b001",
   "metadata": {},
   "outputs": [
    {
     "name": "stdout",
     "output_type": "stream",
     "text": [
      "timestamp         18\n",
      "itemid        417053\n",
      "property        1088\n",
      "value        1034833\n",
      "dtype: int64\n"
     ]
    }
   ],
   "source": [
    "# identifying unique values in properties1 dataset\n",
    "# Get the count of unique values in each column\n",
    "unique_properties1 = properties1.nunique()\n",
    "print(unique_properties1)"
   ]
  },
  {
   "cell_type": "code",
   "execution_count": 78,
   "id": "3f1a6667-5dc6-4024-8bd1-98bce1baa12c",
   "metadata": {},
   "outputs": [
    {
     "name": "stdout",
     "output_type": "stream",
     "text": [
      "timestamp        18\n",
      "itemid       417050\n",
      "property       1085\n",
      "value        909240\n",
      "dtype: int64\n"
     ]
    }
   ],
   "source": [
    "# identifying unique values in properties1 dataset\n",
    "# Get the count of unique values in each column\n",
    "unique_properties2 = properties2.nunique()\n",
    "print(unique_properties2)"
   ]
  },
  {
   "cell_type": "code",
   "execution_count": null,
   "id": "9af911d5-a0d7-48f7-9e9e-dac1546fe465",
   "metadata": {},
   "outputs": [],
   "source": []
  },
  {
   "cell_type": "code",
   "execution_count": 79,
   "id": "edd5af42-8ddf-4675-83f0-f604e1ca57ac",
   "metadata": {},
   "outputs": [
    {
     "name": "stdout",
     "output_type": "stream",
     "text": [
      "['view' 'addtocart' 'transaction']\n"
     ]
    }
   ],
   "source": [
    "# Extract unique categories from the value column\n",
    "unique_events = events['event'].unique()\n",
    "\n",
    "# Display the distinct categories\n",
    "print(unique_events)"
   ]
  },
  {
   "cell_type": "code",
   "execution_count": null,
   "id": "d5a4feb8-ea2a-49ec-bceb-03e132569971",
   "metadata": {},
   "outputs": [],
   "source": []
  },
  {
   "cell_type": "markdown",
   "id": "b39034d4-54ae-467c-a88a-d1e2c74a75a7",
   "metadata": {},
   "source": [
    "# Answering business questions "
   ]
  },
  {
   "cell_type": "markdown",
   "id": "e46a2ce4-8b9b-49c4-b745-8e372b78f6e3",
   "metadata": {},
   "source": [
    "# 1. what is the most occuring events in the website"
   ]
  },
  {
   "cell_type": "code",
   "execution_count": 80,
   "id": "d7f939bf-b40c-4345-afd5-1c696b2a3f71",
   "metadata": {},
   "outputs": [
    {
     "name": "stdout",
     "output_type": "stream",
     "text": [
      "<class 'pandas.core.frame.DataFrame'>\n",
      "Index: 2755641 entries, 0 to 2756100\n",
      "Data columns (total 5 columns):\n",
      " #   Column         Dtype         \n",
      "---  ------         -----         \n",
      " 0   timestamp      datetime64[ns]\n",
      " 1   visitorid      int64         \n",
      " 2   event          object        \n",
      " 3   itemid         int64         \n",
      " 4   transactionid  object        \n",
      "dtypes: datetime64[ns](1), int64(2), object(2)\n",
      "memory usage: 126.1+ MB\n"
     ]
    }
   ],
   "source": [
    "events.info()"
   ]
  },
  {
   "cell_type": "code",
   "execution_count": null,
   "id": "c6a8acd9-ce75-473a-be5f-cd6e796b7743",
   "metadata": {},
   "outputs": [],
   "source": []
  },
  {
   "cell_type": "code",
   "execution_count": 82,
   "id": "a57a0823-0eee-41fb-9140-d2f7eb98f1d9",
   "metadata": {},
   "outputs": [],
   "source": [
    "events = pd.read_csv(\"C:/Users/Hp/Downloads/OneDrive_2_2-18-2025/TMP2/events.csv\")  #call out the events dataset\n"
   ]
  },
  {
   "cell_type": "code",
   "execution_count": 84,
   "id": "26ed07cd-91f5-4197-835e-1bf842fa86d3",
   "metadata": {},
   "outputs": [
    {
     "name": "stdout",
     "output_type": "stream",
     "text": [
      "<class 'pandas.core.frame.DataFrame'>\n",
      "RangeIndex: 2756101 entries, 0 to 2756100\n",
      "Data columns (total 5 columns):\n",
      " #   Column         Dtype  \n",
      "---  ------         -----  \n",
      " 0   timestamp      int64  \n",
      " 1   visitorid      int64  \n",
      " 2   event          object \n",
      " 3   itemid         int64  \n",
      " 4   transactionid  float64\n",
      "dtypes: float64(1), int64(3), object(1)\n",
      "memory usage: 105.1+ MB\n"
     ]
    }
   ],
   "source": [
    "events.info()"
   ]
  },
  {
   "cell_type": "code",
   "execution_count": 85,
   "id": "5566e949-a459-4a77-b6f8-5b9c24cc1fc8",
   "metadata": {},
   "outputs": [],
   "source": [
    "events_category = events['event'].value_counts()  # call out evevnt column\n"
   ]
  },
  {
   "cell_type": "code",
   "execution_count": 87,
   "id": "8926eb58-8b63-43fa-8345-6aa61505c50b",
   "metadata": {},
   "outputs": [
    {
     "data": {
      "text/plain": [
       "event\n",
       "view           2664312\n",
       "addtocart        69332\n",
       "transaction      22457\n",
       "Name: count, dtype: int64"
      ]
     },
     "execution_count": 87,
     "metadata": {},
     "output_type": "execute_result"
    }
   ],
   "source": [
    "events_category.head()"
   ]
  },
  {
   "cell_type": "code",
   "execution_count": 88,
   "id": "f1a302b1-4a13-4cef-a66b-e987b741939a",
   "metadata": {},
   "outputs": [
    {
     "data": {
      "image/png": "[encoded data removed]",
      "text/plain": [
       "<Figure size 1000x500 with 1 Axes>"
      ]
     },
     "metadata": {},
     "output_type": "display_data"
    }
   ],
   "source": [
    "plt.figure(figsize=(10,5))  # Set figure size\n",
    "events_category.plot(kind='bar', color='skyblue')  # Create bar chart\n",
    "plt.xlabel(\"Categories\")  # X-axis label\n",
    "plt.ylabel(\"Count\")  # Y-axis label\n",
    "plt.title(\"Category Distribution\")  # Title\n",
    "plt.xticks(rotation=45)  # Rotate x-axis labels for better visibility\n",
    "plt.show()  # Display the chart\n"
   ]
  },
  {
   "cell_type": "code",
   "execution_count": null,
   "id": "c3c7ea7a-4033-45c5-ba5a-6b7ff92cb52b",
   "metadata": {},
   "outputs": [],
   "source": []
  },
  {
   "cell_type": "code",
   "execution_count": null,
   "id": "321520b2-88f6-4cf0-aa58-89da290d3cd2",
   "metadata": {},
   "outputs": [],
   "source": []
  },
  {
   "cell_type": "code",
   "execution_count": null,
   "id": "be8b11c7-1b0e-48d5-8760-f057aa29be45",
   "metadata": {},
   "outputs": [],
   "source": [
    "# 2. What are the most frequently purchased products across different customer segments?"
   ]
  },
  {
   "cell_type": "code",
   "execution_count": null,
   "id": "00d2be1a-17c8-44f6-8fbf-3d489febfc5d",
   "metadata": {},
   "outputs": [],
   "source": []
  },
  {
   "cell_type": "code",
   "execution_count": null,
   "id": "b8d581d1-88ac-434f-af8f-ad8072289f46",
   "metadata": {},
   "outputs": [],
   "source": []
  }
 ],
 "metadata": {
  "kernelspec": {
   "display_name": "Python 3 (ipykernel)",
   "language": "python",
   "name": "python3"
  },
  "language_info": {
   "codemirror_mode": {
    "name": "ipython",
    "version": 3
   },
   "file_extension": ".py",
   "mimetype": "text/x-python",
   "name": "python",
   "nbconvert_exporter": "python",
   "pygments_lexer": "ipython3",
   "version": "3.13.1"
  }
 },
 "nbformat": 4,
 "nbformat_minor": 5
}
